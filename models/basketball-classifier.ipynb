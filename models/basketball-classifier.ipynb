{
  "nbformat": 4,
  "nbformat_minor": 0,
  "metadata": {
    "colab": {
      "name": "basketball-classifier.ipynb",
      "version": "0.3.2",
      "views": {},
      "default_view": {},
      "provenance": [
        {
          "file_id": "1cILOwmQoTduWFxkHmh-xS1oM8Zh9sCQQ",
          "timestamp": 1518045430138
        }
      ],
      "toc_visible": true
    },
    "kernelspec": {
      "name": "python3",
      "display_name": "Python 3"
    },
    "accelerator": "GPU"
  },
  "cells": [
    {
      "metadata": {
        "id": "skkfi1Upj5qc",
        "colab_type": "text"
      },
      "cell_type": "markdown",
      "source": [
        "# Free GPUs for All"
      ]
    },
    {
      "metadata": {
        "id": "UgJEUzstkD0B",
        "colab_type": "text"
      },
      "cell_type": "markdown",
      "source": [
        "The purpose is to showcase the power and flexibility of Google Colab to solve a classification problem. We will be leveraging TensorFlow's Imagenet pre-trained model to complete our task."
      ]
    },
    {
      "metadata": {
        "id": "QhtlKDNjkzyd",
        "colab_type": "text"
      },
      "cell_type": "markdown",
      "source": [
        "### Setup"
      ]
    },
    {
      "metadata": {
        "id": "SkfprK8bm2YQ",
        "colab_type": "text"
      },
      "cell_type": "markdown",
      "source": [
        "Importing TensorFlow"
      ]
    },
    {
      "metadata": {
        "id": "D_lUGLOy5FTp",
        "colab_type": "code",
        "colab": {
          "autoexec": {
            "startup": false,
            "wait_interval": 0
          }
        }
      },
      "cell_type": "code",
      "source": [
        "import tensorflow as tf"
      ],
      "execution_count": 0,
      "outputs": []
    },
    {
      "metadata": {
        "id": "K-eh5k6-fOTw",
        "colab_type": "text"
      },
      "cell_type": "markdown",
      "source": [
        "Checking version of TensorFlow"
      ]
    },
    {
      "metadata": {
        "id": "Iu_wtzqqN6_e",
        "colab_type": "code",
        "colab": {
          "autoexec": {
            "startup": false,
            "wait_interval": 0
          },
          "output_extras": [
            {
              "item_id": 1
            }
          ],
          "base_uri": "https://localhost:8080/",
          "height": 88
        },
        "outputId": "c0f1a8ac-7350-498d-efac-0b3f163a9646",
        "executionInfo": {
          "status": "ok",
          "timestamp": 1518092552102,
          "user_tz": 300,
          "elapsed": 2110,
          "user": {
            "displayName": "Ben Stewart",
            "photoUrl": "//lh3.googleusercontent.com/-kNBncLLafxE/AAAAAAAAAAI/AAAAAAAAAAc/o-S523GmxtM/s50-c-k-no/photo.jpg",
            "userId": "108211359438659781123"
          }
        }
      },
      "cell_type": "code",
      "source": [
        "!pip list | grep tensorflow"
      ],
      "execution_count": 2,
      "outputs": [
        {
          "output_type": "stream",
          "text": [
            "\u001b[31mDEPRECATION: The default format will switch to columns in the future. You can use --format=(legacy|columns) (or define a format=(legacy|columns) in your pip.conf under the [list] section) to disable this warning.\u001b[0m\r\n",
            "tensorflow (1.4.1)\r\n",
            "tensorflow-tensorboard (0.4.0)\r\n"
          ],
          "name": "stdout"
        }
      ]
    },
    {
      "metadata": {
        "id": "beFJqatNnpoW",
        "colab_type": "text"
      },
      "cell_type": "markdown",
      "source": [
        "Ensuring GPU setup for this notebook"
      ]
    },
    {
      "metadata": {
        "id": "u-d7T_GgnYwR",
        "colab_type": "code",
        "colab": {
          "autoexec": {
            "startup": false,
            "wait_interval": 0
          },
          "output_extras": [
            {
              "item_id": 1
            }
          ],
          "base_uri": "https://localhost:8080/",
          "height": 34
        },
        "outputId": "8fbbd9b2-a64b-4ca4-bf22-f97bc5b916c0",
        "executionInfo": {
          "status": "ok",
          "timestamp": 1518092556300,
          "user_tz": 300,
          "elapsed": 707,
          "user": {
            "displayName": "Ben Stewart",
            "photoUrl": "//lh3.googleusercontent.com/-kNBncLLafxE/AAAAAAAAAAI/AAAAAAAAAAc/o-S523GmxtM/s50-c-k-no/photo.jpg",
            "userId": "108211359438659781123"
          }
        }
      },
      "cell_type": "code",
      "source": [
        "tf.test.gpu_device_name()"
      ],
      "execution_count": 3,
      "outputs": [
        {
          "output_type": "execute_result",
          "data": {
            "text/plain": [
              "'/device:GPU:0'"
            ]
          },
          "metadata": {
            "tags": []
          },
          "execution_count": 3
        }
      ]
    },
    {
      "metadata": {
        "id": "_MaPeEbblTfL",
        "colab_type": "text"
      },
      "cell_type": "markdown",
      "source": [
        "### Download Pre-Trained Model"
      ]
    },
    {
      "metadata": {
        "id": "a7fFQXWWSoUo",
        "colab_type": "code",
        "colab": {
          "autoexec": {
            "startup": false,
            "wait_interval": 0
          },
          "output_extras": [
            {
              "item_id": 23
            }
          ],
          "base_uri": "https://localhost:8080/",
          "height": 119
        },
        "outputId": "3565630e-630e-434e-e753-e2cb7911e28b",
        "executionInfo": {
          "status": "ok",
          "timestamp": 1518092571054,
          "user_tz": 300,
          "elapsed": 12159,
          "user": {
            "displayName": "Ben Stewart",
            "photoUrl": "//lh3.googleusercontent.com/-kNBncLLafxE/AAAAAAAAAAI/AAAAAAAAAAc/o-S523GmxtM/s50-c-k-no/photo.jpg",
            "userId": "108211359438659781123"
          }
        }
      },
      "cell_type": "code",
      "source": [
        "!git clone https://github.com/tensorflow/models.git"
      ],
      "execution_count": 4,
      "outputs": [
        {
          "output_type": "stream",
          "text": [
            "Cloning into 'models'...\n",
            "remote: Counting objects: 11533, done.\u001b[K\n",
            "remote: Compressing objects: 100% (18/18), done.\u001b[K\n",
            "remote: Total 11533 (delta 13), reused 24 (delta 12), pack-reused 11503\u001b[K\n",
            "Receiving objects: 100% (11533/11533), 313.88 MiB | 43.11 MiB/s, done.\n",
            "Resolving deltas: 100% (6255/6255), done.\n"
          ],
          "name": "stdout"
        }
      ]
    },
    {
      "metadata": {
        "id": "b5LnuJqFlngI",
        "colab_type": "text"
      },
      "cell_type": "markdown",
      "source": [
        "### Running Our Model"
      ]
    },
    {
      "metadata": {
        "id": "XhnG32-Fd6my",
        "colab_type": "text"
      },
      "cell_type": "markdown",
      "source": [
        "Directory where the imagenet model is located:"
      ]
    },
    {
      "metadata": {
        "id": "W-o9--Y2WeGe",
        "colab_type": "code",
        "colab": {
          "autoexec": {
            "startup": false,
            "wait_interval": 0
          },
          "output_extras": [
            {
              "item_id": 1
            }
          ],
          "base_uri": "https://localhost:8080/",
          "height": 34
        },
        "outputId": "e56d6c62-6ea6-457d-e3b6-540a343df65c",
        "executionInfo": {
          "status": "ok",
          "timestamp": 1518092591206,
          "user_tz": 300,
          "elapsed": 289,
          "user": {
            "displayName": "Ben Stewart",
            "photoUrl": "//lh3.googleusercontent.com/-kNBncLLafxE/AAAAAAAAAAI/AAAAAAAAAAc/o-S523GmxtM/s50-c-k-no/photo.jpg",
            "userId": "108211359438659781123"
          }
        }
      },
      "cell_type": "code",
      "source": [
        "cd models/tutorials/image/imagenet/"
      ],
      "execution_count": 6,
      "outputs": [
        {
          "output_type": "stream",
          "text": [
            "/content/models/tutorials/image/imagenet\n"
          ],
          "name": "stdout"
        }
      ]
    },
    {
      "metadata": {
        "id": "8HBzM_SpeKj_",
        "colab_type": "text"
      },
      "cell_type": "markdown",
      "source": [
        "Saving a picture of a basketball to our instance. We will use this image with the pre-trained imagenet classifier."
      ]
    },
    {
      "metadata": {
        "id": "BmgGZ5TlXTPh",
        "colab_type": "code",
        "colab": {
          "autoexec": {
            "startup": false,
            "wait_interval": 0
          },
          "output_extras": [
            {
              "item_id": 1
            }
          ],
          "base_uri": "https://localhost:8080/",
          "height": 224
        },
        "outputId": "55683765-3adb-4b44-9559-c692eaa510f5",
        "executionInfo": {
          "status": "ok",
          "timestamp": 1518092594644,
          "user_tz": 300,
          "elapsed": 551,
          "user": {
            "displayName": "Ben Stewart",
            "photoUrl": "//lh3.googleusercontent.com/-kNBncLLafxE/AAAAAAAAAAI/AAAAAAAAAAc/o-S523GmxtM/s50-c-k-no/photo.jpg",
            "userId": "108211359438659781123"
          }
        }
      },
      "cell_type": "code",
      "source": [
        "!wget http://3.bp.blogspot.com/_qjlkTyHLyuw/TFt3adewwrI/AAAAAAAAAAk/Bdz2jz79Yjs/s1600/Basketball-large.png"
      ],
      "execution_count": 7,
      "outputs": [
        {
          "output_type": "stream",
          "text": [
            "--2018-02-08 12:23:12--  http://3.bp.blogspot.com/_qjlkTyHLyuw/TFt3adewwrI/AAAAAAAAAAk/Bdz2jz79Yjs/s1600/Basketball-large.png\r\n",
            "Resolving 3.bp.blogspot.com (3.bp.blogspot.com)... 74.125.28.132, 2607:f8b0:400e:c04::84\r\n",
            "Connecting to 3.bp.blogspot.com (3.bp.blogspot.com)|74.125.28.132|:80... connected.\r\n",
            "HTTP request sent, awaiting response... 200 OK\r\n",
            "Length: 92358 (90K) [image/png]\r\n",
            "Saving to: ‘Basketball-large.png’\r\n",
            "\r\n",
            "\rBasketball-large.pn   0%[                    ]       0  --.-KB/s               \rBasketball-large.pn 100%[===================>]  90.19K  --.-KB/s    in 0s      \r\n",
            "\r\n",
            "2018-02-08 12:23:12 (336 MB/s) - ‘Basketball-large.png’ saved [92358/92358]\r\n",
            "\r\n"
          ],
          "name": "stdout"
        }
      ]
    },
    {
      "metadata": {
        "id": "LKBY6xEVeXdR",
        "colab_type": "text"
      },
      "cell_type": "markdown",
      "source": [
        "Running pre-trained classification model on our image of a basketball"
      ]
    },
    {
      "metadata": {
        "id": "NE9MIycSa-T-",
        "colab_type": "code",
        "colab": {
          "autoexec": {
            "startup": false,
            "wait_interval": 0
          },
          "output_extras": [
            {
              "item_id": 14
            }
          ],
          "base_uri": "https://localhost:8080/",
          "height": 479
        },
        "outputId": "69c93900-b5cd-436b-daff-9d268ac3a3f7",
        "executionInfo": {
          "status": "ok",
          "timestamp": 1518092606398,
          "user_tz": 300,
          "elapsed": 7825,
          "user": {
            "displayName": "Ben Stewart",
            "photoUrl": "//lh3.googleusercontent.com/-kNBncLLafxE/AAAAAAAAAAI/AAAAAAAAAAc/o-S523GmxtM/s50-c-k-no/photo.jpg",
            "userId": "108211359438659781123"
          }
        }
      },
      "cell_type": "code",
      "source": [
        "!python classify_image.py --image_file Basketball-large.png"
      ],
      "execution_count": 8,
      "outputs": [
        {
          "output_type": "stream",
          "text": [
            "/usr/local/lib/python3.6/dist-packages/h5py/__init__.py:36: FutureWarning: Conversion of the second argument of issubdtype from `float` to `np.floating` is deprecated. In future, it will be treated as `np.float64 == np.dtype(float).type`.\r\n",
            "  from ._conv import register_converters as _register_converters\n",
            ">> Downloading inception-2015-12-05.tgz 100.0%\n",
            "Successfully downloaded inception-2015-12-05.tgz 88931400 bytes.\n",
            "name: Tesla K80 major: 3 minor: 7 memoryClockRate(GHz): 0.8235\n",
            "pciBusID: 0000:00:04.0\n",
            "totalMemory: 11.17GiB freeMemory: 505.38MiB\n",
            "2018-02-08 12:23:21.634424: I tensorflow/core/common_runtime/gpu/gpu_device.cc:1120] Creating TensorFlow device (/device:GPU:0) -> (device: 0, name: Tesla K80, pci bus id: 0000:00:04.0, compute capability: 3.7)\n"
            "basketball (score = 0.99916)\n",
            "orange (score = 0.00011)\n",
            "lifeboat (score = 0.00006)\n",
            "monarch, monarch butterfly, milkweed butterfly, Danaus plexippus (score = 0.00006)\n",
            "space heater (score = 0.00003)\n"
          ],
          "name": "stdout"
        }
      ]
    },
    {
      "metadata": {
        "id": "qO7aAGA8eeuZ",
        "colab_type": "text"
      },
      "cell_type": "markdown",
      "source": [
        "### Results"
      ]
    },
    {
      "metadata": {
        "id": "bwHIaZJ5ejjD",
        "colab_type": "text"
      },
      "cell_type": "markdown",
      "source": [
        "Our model is 99.9% certain that our basketball image is in fact a basketball. Feel free to test the model with any image and see what you get. The imagenet model is pretrained with ~1,000 categories."
      ]
    },
    {
      "metadata": {
        "id": "VM6ZmXy213Uk",
        "colab_type": "text"
      },
      "cell_type": "markdown",
      "source": [
        "It is because of memory"
      ]
    }
  ]
}
